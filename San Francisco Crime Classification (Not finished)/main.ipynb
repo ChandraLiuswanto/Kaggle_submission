{
 "cells": [
  {
   "cell_type": "code",
   "execution_count": 1,
   "metadata": {},
   "outputs": [
    {
     "name": "stdout",
     "output_type": "stream",
     "text": [
      "['Dates' 'Category' 'PdDistrict' 'X' 'Y' 'Id']\n"
     ]
    }
   ],
   "source": [
    "import numpy as np\n",
    "import matplotlib.pyplot as plt\n",
    "from sklearn import preprocessing\n",
    "import copy, torch, os\n",
    "import pandas as pd\n",
    "train_df = pd.read_csv('train.csv')\n",
    "test_df = pd.read_csv('test.csv')\n",
    "data_df = pd.concat([train_df, test_df], ignore_index=True, sort=False)\n",
    "data_df = data_df.drop(columns=['Descript','Resolution','DayOfWeek','Address'])\n",
    "print(data_df.columns.values)"
   ]
  },
  {
   "cell_type": "markdown",
   "metadata": {},
   "source": [
    "# Data Cleaning"
   ]
  },
  {
   "cell_type": "code",
   "execution_count": 2,
   "metadata": {},
   "outputs": [
    {
     "name": "stdout",
     "output_type": "stream",
     "text": [
      "Coloums         Has null        Dtype          \n",
      "Dates           0               object\n",
      "Category        884262          object\n",
      "PdDistrict      0               object\n",
      "X               0               float64\n",
      "Y               0               float64\n",
      "Id              878049          float64\n"
     ]
    }
   ],
   "source": [
    "print (\"{:<15} {:<15} {:<15}\".format('Coloums','Has null','Dtype'))\n",
    "for i in data_df.columns:\n",
    "    print (\"{:<15} {:<15}\".format(i,data_df[i].isnull().sum()),data_df[i].dtype)"
   ]
  },
  {
   "cell_type": "markdown",
   "metadata": {},
   "source": [
    "The data has mixed value in dates to adresss"
   ]
  },
  {
   "cell_type": "markdown",
   "metadata": {},
   "source": [
    "1. Create dates feature to year, month, hour, day in the week"
   ]
  },
  {
   "cell_type": "code",
   "execution_count": 3,
   "metadata": {},
   "outputs": [
    {
     "name": "stdout",
     "output_type": "stream",
     "text": [
      "0 ARSON\n",
      "1 ASSAULT\n",
      "2 BAD CHECKS\n",
      "3 BRIBERY\n",
      "4 BURGLARY\n",
      "5 DISORDERLY CONDUCT\n",
      "6 DRIVING UNDER THE INFLUENCE\n",
      "7 DRUG/NARCOTIC\n",
      "8 DRUNKENNESS\n",
      "9 EMBEZZLEMENT\n",
      "10 EXTORTION\n",
      "11 FAMILY OFFENSES\n",
      "12 FORGERY/COUNTERFEITING\n",
      "13 FRAUD\n",
      "14 GAMBLING\n",
      "15 KIDNAPPING\n",
      "16 LARCENY/THEFT\n",
      "17 LIQUOR LAWS\n",
      "18 LOITERING\n",
      "19 MISSING PERSON\n",
      "20 NON-CRIMINAL\n",
      "21 OTHER OFFENSES\n",
      "22 PORNOGRAPHY/OBSCENE MAT\n",
      "23 PROSTITUTION\n",
      "24 RECOVERED VEHICLE\n",
      "25 ROBBERY\n",
      "26 RUNAWAY\n",
      "27 SECONDARY CODES\n",
      "28 SEX OFFENSES FORCIBLE\n",
      "29 SEX OFFENSES NON FORCIBLE\n",
      "30 STOLEN PROPERTY\n",
      "31 SUICIDE\n",
      "32 SUSPICIOUS OCC\n",
      "33 TREA\n",
      "34 TRESPASS\n",
      "35 VANDALISM\n",
      "36 VEHICLE THEFT\n",
      "37 WARRANTS\n",
      "38 WEAPON LAWS\n",
      "39 nan\n"
     ]
    }
   ],
   "source": [
    "data_df['Dates'] = pd.to_datetime(data_df['Dates'])\n",
    "data_df['Year'] = data_df['Dates'].dt.year\n",
    "data_df['Month'] = data_df['Dates'].dt.month\n",
    "data_df['Hour'] = data_df['Dates'].dt.hour\n",
    "data_df['DayOfWeek'] = data_df['Dates'].dt.dayofweek\n",
    "data_df['Day'] = data_df['Dates'].dt.day\n",
    "data_df = data_df.drop(columns='Dates')\n",
    "from sklearn import preprocessing\n",
    "label_list = ['Category','PdDistrict']\n",
    "le = []\n",
    "for list,i in enumerate(label_list):\n",
    "    le.append(preprocessing.LabelEncoder())\n",
    "    le[list].fit(data_df[i])\n",
    "    data_df[i] = le[list].transform(data_df[i])\n",
    "temp = [print(index,val) for index, val in enumerate(le[0].classes_)]"
   ]
  },
  {
   "cell_type": "code",
   "execution_count": 4,
   "metadata": {},
   "outputs": [],
   "source": [
    "data_df['Category'] = np.where(data_df['Category']==39,np.nan,data_df['Category'])"
   ]
  },
  {
   "cell_type": "code",
   "execution_count": 5,
   "metadata": {},
   "outputs": [
    {
     "data": {
      "text/html": [
       "<div>\n",
       "<style scoped>\n",
       "    .dataframe tbody tr th:only-of-type {\n",
       "        vertical-align: middle;\n",
       "    }\n",
       "\n",
       "    .dataframe tbody tr th {\n",
       "        vertical-align: top;\n",
       "    }\n",
       "\n",
       "    .dataframe thead th {\n",
       "        text-align: right;\n",
       "    }\n",
       "</style>\n",
       "<table border=\"1\" class=\"dataframe\">\n",
       "  <thead>\n",
       "    <tr style=\"text-align: right;\">\n",
       "      <th></th>\n",
       "      <th>PdDistrict</th>\n",
       "      <th>X</th>\n",
       "      <th>Y</th>\n",
       "      <th>Year</th>\n",
       "      <th>Month</th>\n",
       "      <th>Hour</th>\n",
       "      <th>DayOfWeek</th>\n",
       "      <th>Day</th>\n",
       "    </tr>\n",
       "  </thead>\n",
       "  <tbody>\n",
       "    <tr>\n",
       "      <th>0</th>\n",
       "      <td>4</td>\n",
       "      <td>-122.425892</td>\n",
       "      <td>37.774599</td>\n",
       "      <td>2015</td>\n",
       "      <td>5</td>\n",
       "      <td>23</td>\n",
       "      <td>2</td>\n",
       "      <td>13</td>\n",
       "    </tr>\n",
       "    <tr>\n",
       "      <th>1</th>\n",
       "      <td>4</td>\n",
       "      <td>-122.425892</td>\n",
       "      <td>37.774599</td>\n",
       "      <td>2015</td>\n",
       "      <td>5</td>\n",
       "      <td>23</td>\n",
       "      <td>2</td>\n",
       "      <td>13</td>\n",
       "    </tr>\n",
       "    <tr>\n",
       "      <th>2</th>\n",
       "      <td>4</td>\n",
       "      <td>-122.424363</td>\n",
       "      <td>37.800414</td>\n",
       "      <td>2015</td>\n",
       "      <td>5</td>\n",
       "      <td>23</td>\n",
       "      <td>2</td>\n",
       "      <td>13</td>\n",
       "    </tr>\n",
       "    <tr>\n",
       "      <th>3</th>\n",
       "      <td>4</td>\n",
       "      <td>-122.426995</td>\n",
       "      <td>37.800873</td>\n",
       "      <td>2015</td>\n",
       "      <td>5</td>\n",
       "      <td>23</td>\n",
       "      <td>2</td>\n",
       "      <td>13</td>\n",
       "    </tr>\n",
       "    <tr>\n",
       "      <th>4</th>\n",
       "      <td>5</td>\n",
       "      <td>-122.438738</td>\n",
       "      <td>37.771541</td>\n",
       "      <td>2015</td>\n",
       "      <td>5</td>\n",
       "      <td>23</td>\n",
       "      <td>2</td>\n",
       "      <td>13</td>\n",
       "    </tr>\n",
       "    <tr>\n",
       "      <th>...</th>\n",
       "      <td>...</td>\n",
       "      <td>...</td>\n",
       "      <td>...</td>\n",
       "      <td>...</td>\n",
       "      <td>...</td>\n",
       "      <td>...</td>\n",
       "      <td>...</td>\n",
       "      <td>...</td>\n",
       "    </tr>\n",
       "    <tr>\n",
       "      <th>878044</th>\n",
       "      <td>8</td>\n",
       "      <td>-122.459033</td>\n",
       "      <td>37.714056</td>\n",
       "      <td>2003</td>\n",
       "      <td>1</td>\n",
       "      <td>0</td>\n",
       "      <td>0</td>\n",
       "      <td>6</td>\n",
       "    </tr>\n",
       "    <tr>\n",
       "      <th>878045</th>\n",
       "      <td>2</td>\n",
       "      <td>-122.447364</td>\n",
       "      <td>37.731948</td>\n",
       "      <td>2003</td>\n",
       "      <td>1</td>\n",
       "      <td>0</td>\n",
       "      <td>0</td>\n",
       "      <td>6</td>\n",
       "    </tr>\n",
       "    <tr>\n",
       "      <th>878046</th>\n",
       "      <td>7</td>\n",
       "      <td>-122.403390</td>\n",
       "      <td>37.780266</td>\n",
       "      <td>2003</td>\n",
       "      <td>1</td>\n",
       "      <td>0</td>\n",
       "      <td>0</td>\n",
       "      <td>6</td>\n",
       "    </tr>\n",
       "    <tr>\n",
       "      <th>878047</th>\n",
       "      <td>7</td>\n",
       "      <td>-122.390531</td>\n",
       "      <td>37.780607</td>\n",
       "      <td>2003</td>\n",
       "      <td>1</td>\n",
       "      <td>0</td>\n",
       "      <td>0</td>\n",
       "      <td>6</td>\n",
       "    </tr>\n",
       "    <tr>\n",
       "      <th>878048</th>\n",
       "      <td>0</td>\n",
       "      <td>-122.394926</td>\n",
       "      <td>37.738212</td>\n",
       "      <td>2003</td>\n",
       "      <td>1</td>\n",
       "      <td>0</td>\n",
       "      <td>0</td>\n",
       "      <td>6</td>\n",
       "    </tr>\n",
       "  </tbody>\n",
       "</table>\n",
       "<p>878049 rows × 8 columns</p>\n",
       "</div>"
      ],
      "text/plain": [
       "        PdDistrict           X          Y  Year  Month  Hour  DayOfWeek  Day\n",
       "0                4 -122.425892  37.774599  2015      5    23          2   13\n",
       "1                4 -122.425892  37.774599  2015      5    23          2   13\n",
       "2                4 -122.424363  37.800414  2015      5    23          2   13\n",
       "3                4 -122.426995  37.800873  2015      5    23          2   13\n",
       "4                5 -122.438738  37.771541  2015      5    23          2   13\n",
       "...            ...         ...        ...   ...    ...   ...        ...  ...\n",
       "878044           8 -122.459033  37.714056  2003      1     0          0    6\n",
       "878045           2 -122.447364  37.731948  2003      1     0          0    6\n",
       "878046           7 -122.403390  37.780266  2003      1     0          0    6\n",
       "878047           7 -122.390531  37.780607  2003      1     0          0    6\n",
       "878048           0 -122.394926  37.738212  2003      1     0          0    6\n",
       "\n",
       "[878049 rows x 8 columns]"
      ]
     },
     "execution_count": 5,
     "metadata": {},
     "output_type": "execute_result"
    }
   ],
   "source": [
    "(data_df[data_df['Category']>=0]).drop(columns=['Id','Category'])"
   ]
  },
  {
   "cell_type": "code",
   "execution_count": 6,
   "metadata": {},
   "outputs": [],
   "source": [
    "train_data = (data_df[data_df['Category']>=0]).drop(columns=['Id'])\n",
    "X_train = train_data.drop(columns=['Category'])\n",
    "y_train = train_data['Category']\n",
    "\n",
    "y_test = (data_df[data_df['Category'].isnull()]).drop(columns=['Id','Category'])"
   ]
  },
  {
   "cell_type": "code",
   "execution_count": 7,
   "metadata": {},
   "outputs": [],
   "source": [
    "from sklearn.model_selection import train_test_split\n",
    "X_train0, X_train1, y_train0, y_train1 = train_test_split(X_train, y_train, \n",
    "                                                test_size=0.2, random_state=0)"
   ]
  },
  {
   "cell_type": "code",
   "execution_count": 13,
   "metadata": {},
   "outputs": [
    {
     "data": {
      "text/plain": [
       "DecisionTreeClassifier()"
      ]
     },
     "execution_count": 13,
     "metadata": {},
     "output_type": "execute_result"
    }
   ],
   "source": [
    "from sklearn.tree import DecisionTreeClassifier\n",
    "DecisionTreeClassifierModel = DecisionTreeClassifier()\n",
    "DecisionTreeClassifierModel.fit(X_train0, y_train0)"
   ]
  },
  {
   "cell_type": "code",
   "execution_count": 9,
   "metadata": {},
   "outputs": [
    {
     "data": {
      "text/plain": [
       "0.07401923868122356"
      ]
     },
     "execution_count": 9,
     "metadata": {},
     "output_type": "execute_result"
    }
   ],
   "source": [
    "from sklearn.naive_bayes import GaussianNB\n",
    "GaussianNBModel = GaussianNB()\n",
    "GaussianNBModel.fit(X_train0, y_train0)\n"
   ]
  },
  {
   "cell_type": "code",
   "execution_count": 12,
   "metadata": {},
   "outputs": [
    {
     "data": {
      "text/plain": [
       "36.0"
      ]
     },
     "execution_count": 12,
     "metadata": {},
     "output_type": "execute_result"
    }
   ],
   "source": [
    "GaussianNBModel.predict(X_train1).max()"
   ]
  }
 ],
 "metadata": {
  "interpreter": {
   "hash": "294ce20df86c934b8e6934fc8826ec74c86f3a7103def11d1ee6e795248841c1"
  },
  "kernelspec": {
   "display_name": "Python 3.10.4 ('ML_env')",
   "language": "python",
   "name": "python3"
  },
  "language_info": {
   "codemirror_mode": {
    "name": "ipython",
    "version": 3
   },
   "file_extension": ".py",
   "mimetype": "text/x-python",
   "name": "python",
   "nbconvert_exporter": "python",
   "pygments_lexer": "ipython3",
   "version": "3.10.4"
  },
  "orig_nbformat": 4
 },
 "nbformat": 4,
 "nbformat_minor": 2
}
